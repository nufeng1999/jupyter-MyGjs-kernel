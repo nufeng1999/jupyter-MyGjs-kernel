{
 "cells": [
  {
   "cell_type": "code",
   "execution_count": 5,
   "metadata": {},
   "outputs": [
    {
     "data": {
      "text/plain": [
       "Hello World!\n"
      ]
     },
     "metadata": {
      "text/plain": {}
     },
     "output_type": "display_data"
    }
   ],
   "source": [
    "//%log:0\n",
    "print(\"Hello World!\");"
   ]
  }
 ],
 "metadata": {
  "kernelspec": {
   "display_name": "MyGjs",
   "language": "Python",
   "name": "mygjs"
  },
  "language_info": {
   "codemirror_mode": {
    "name": "javascript",
    "version": 3
   },
   "file_extension": ".js",
   "mimetype": "text/javascript",
   "name": "javascript",
   "nbconvert_exporter": "javascript",
   "pygments_lexer": "javascript3",
   "version": "3.9.7"
  }
 },
 "nbformat": 4,
 "nbformat_minor": 5
}
