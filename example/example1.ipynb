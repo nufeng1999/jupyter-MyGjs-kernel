{
 "cells": [
  {
   "cell_type": "code",
   "execution_count": null,
   "metadata": {},
   "outputs": [],
   "source": [
    "##%overwritefile\n",
    "##%file:test/test1.py\n",
    "##//%noruncode\n",
    "##%showpid\n",
    "##//%kcmd:list\n",
    "print(\"---------\\n\")\n",
    "\n",
    "class A():\n",
    "    def __init__(self, *args, **kwargs):\n",
    "        # super(CKernel, self).__init__(*args, **kwargs)\n",
    "        self.__normal_ret='the test in a'\n",
    "    def test2(self):\n",
    "        return self.__normal_ret\n",
    "    def test3(self):\n",
    "        return self.test2()\n",
    "        \n",
    "    def test1(self):\n",
    "        print(self.__normal_ret)\n",
    "        print(\"the test in a\")\n",
    "    def calltest(self):\n",
    "        self.test()\n",
    "class B(A):\n",
    "    def __init__(self, *args, **kwargs):\n",
    "        super(B, self).__init__(*args, **kwargs)\n",
    "        self.__normal_ret='the test in b'\n",
    "\n",
    "    def test(self):\n",
    "        print(\"the test in b\")\n",
    "        print(self.test3())\n",
    "b=B()\n",
    "b.test()\n",
    "# b.calltest()"
   ]
  },
  {
   "cell_type": "code",
   "execution_count": null,
   "id": "97700599",
   "metadata": {},
   "outputs": [],
   "source": [
    "##%define:M1 line2='this define\\'s test by {{name}}'\n",
    "\n",
    "##$M1 name=000  uu=test\n",
    "print(line2+\"\\n\")\n",
    "##jj2_begin: name=ll3   uu=test\n",
    "line3='this define\\'s test by {{name}} ---{{uu}}'\n",
    "print(line3+\"\\n\")\n",
    "##jj2_end\n"
   ]
  },
  {
   "cell_type": "code",
   "execution_count": null,
   "id": "5130014f",
   "metadata": {},
   "outputs": [],
   "source": [
    "##//%outputtype:text/html\n",
    "##%runprg:bash \n",
    "##%runprgargs:test.sh\n",
    "##%overwritefile\n",
    "##%file:test.sh\n",
    "echo \"脚本文件测试\"\n",
    "ls\n",
    "\n"
   ]
  },
  {
   "cell_type": "code",
   "execution_count": 4,
   "id": "93f5ab6c",
   "metadata": {},
   "outputs": [
    {
     "data": {
      "text/plain": [
       "[MyGjs] Info:The process :/root/Jupyter/jupyter-MyGjs-kernel/example/tmpu5puy2gd.js\n"
      ]
     },
     "metadata": {
      "text/plain": {}
     },
     "output_type": "display_data"
    },
    {
     "data": {
      "text/plain": [
       "The process end:5385\n"
      ]
     },
     "metadata": {
      "text/plain": {}
     },
     "output_type": "display_data"
    }
   ],
   "source": [
    "imports.gi.versions.Gtk = \"3.0\";\n",
    "const Gtk = imports.gi.Gtk;\n",
    "\n",
    "let app = new Gtk.Application({ application_id: 'org.gtk.ExampleApp' });\n",
    "\n",
    "app.connect('activate', () => {\n",
    "    let win = new Gtk.ApplicationWindow({ application: app });\n",
    "    let btn = new Gtk.Button({ label: 'Hello, World!' });\n",
    "    btn.connect('clicked', () => { win.close(); });\n",
    "    win.add(btn);\n",
    "    win.show_all();\n",
    "});\n",
    "\n",
    "app.run([]);"
   ]
  }
 ],
 "metadata": {
  "interpreter": {
   "hash": "916dbcbb3f70747c44a77c7bcd40155683ae19c65e1c03b4aa3499c5328201f1"
  },
  "kernelspec": {
   "display_name": "MyGjs",
   "language": "Python",
   "name": "mygjs"
  },
  "language_info": {
   "codemirror_mode": {
    "name": "javascript",
    "version": 3
   },
   "file_extension": ".js",
   "mimetype": "text/javascript",
   "name": "javascript",
   "nbconvert_exporter": "javascript",
   "pygments_lexer": "javascript3",
   "version": "3.9.7"
  },
  "widgets": {
   "application/vnd.jupyter.widget-state+json": {
    "state": {},
    "version_major": 2,
    "version_minor": 0
   }
  }
 },
 "nbformat": 4,
 "nbformat_minor": 5
}
