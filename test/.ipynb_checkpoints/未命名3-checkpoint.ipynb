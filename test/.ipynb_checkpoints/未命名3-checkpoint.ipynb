{
 "cells": [
  {
   "cell_type": "code",
   "execution_count": 1,
   "id": "406b1c92-621a-4353-903c-b5c90102e95f",
   "metadata": {},
   "outputs": [
    {
     "data": {
      "text/html": [
       "<div><img alt=\"Output\" src=\"data:image/png;base64,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\"></div>"
      ],
      "text/plain": [
       "x + y + z"
      ]
     },
     "execution_count": 1,
     "metadata": {
      "text/html": [],
      "text/plain": []
     },
     "output_type": "execute_result"
    }
   ],
   "source": [
    "x + y + z"
   ]
  },
  {
   "cell_type": "code",
   "execution_count": null,
   "id": "c8802cea-b685-422b-aef8-ac1a7b8d7288",
   "metadata": {},
   "outputs": [],
   "source": []
  }
 ],
 "metadata": {
  "kernelspec": {
   "display_name": "Wolfram Language 12.3",
   "language": "Wolfram Language",
   "name": "wolframlanguage12.3"
  },
  "language_info": {
   "codemirror_mode": "mathematica",
   "file_extension": ".m",
   "mimetype": "application/vnd.wolfram.m",
   "name": "Wolfram Language",
   "pygments_lexer": "mathematica",
   "version": "12.0"
  }
 },
 "nbformat": 4,
 "nbformat_minor": 5
}
