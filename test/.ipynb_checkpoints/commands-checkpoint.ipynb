{
 "cells": [
  {
   "cell_type": "code",
   "execution_count": null,
   "id": "24b7e1b8-73b3-4e1a-be35-edf187e48fd4",
   "metadata": {},
   "outputs": [],
   "source": [
    "//%rungdb\n",
    "//%command:make --help"
   ]
  },
  {
   "cell_type": "code",
   "execution_count": null,
   "id": "2adf7650-72f9-457c-a8e5-6eee0cd93eec",
   "metadata": {},
   "outputs": [],
   "source": [
    "//gcc 内置默认的宏定义\n",
    "//%rungdb\n",
    "//%command:gcc -E -dM -</dev/null"
   ]
  },
  {
   "cell_type": "code",
   "execution_count": null,
   "id": "6e86cca6-eb10-4de2-8f31-928168238112",
   "metadata": {},
   "outputs": [],
   "source": [
    "//gcc \n",
    "// -B <directory>           Add <directory> to the compiler's search paths.\n",
    "// -pie                     Create a dynamically linked position independent\n",
    "//                          executable.\n",
    "// -shared                  Create a shared library.\n",
    "// -E                       Preprocess only; do not compile, assemble or link.\n",
    "// -S                       Compile only; do not assemble or link.\n",
    "// -c                       Compile and assemble, but do not link.\n",
    "// -Wa,<options>            Pass comma-separated <options> on to the assembler.\n",
    "// -Wp,<options>            Pass comma-separated <options> on to the preprocessor.\n",
    "// -Wl,<options>            Pass comma-separated <options> on to the linker.\n",
    "// -Xassembler <arg>        Pass <arg> on to the assembler.\n",
    "// -Xpreprocessor <arg>     Pass <arg> on to the preprocessor.\n",
    "// -Xlinker <arg>           Pass <arg> on to the linker.\n",
    "// common  -----------------------------------------------------------\n",
    "// -fPIC                       Generate position-independent code if possible\n",
    "//                             (large mode).\n",
    "// -fPIE                       Generate position-independent code for\n",
    "//                             executables if possible (large mode).\n",
    "//%rungdb\n",
    "//--help={common|optimizers|params|target|warnings|[^]{joined|separate|undocumented}}[,...].\n",
    "//%command:gcc --help=optimizers"
   ]
  },
  {
   "cell_type": "code",
   "execution_count": null,
   "id": "3dd91168-a887-4af9-bbf3-207a0be105b1",
   "metadata": {},
   "outputs": [],
   "source": [
    "//%rungdb\n",
    "//%command:ld --help"
   ]
  },
  {
   "cell_type": "code",
   "execution_count": null,
   "id": "06808bb5-13b3-4264-b208-9a0a0edf7e19",
   "metadata": {},
   "outputs": [],
   "source": [
    "//%rungdb//%rungdb\n",
    "//%command:cmake --help"
   ]
  },
  {
   "cell_type": "code",
   "execution_count": 1,
   "id": "a80eac41-1f81-4828-8be7-8ea47e7daba5",
   "metadata": {},
   "outputs": [
    {
     "name": "stdout",
     "output_type": "stream",
     "text": [
      "--0"
     ]
    },
    {
     "name": "stderr",
     "output_type": "stream",
     "text": [
      "[C kernel] Error:Executable command error! 'NoneType' object is not subscriptable\n"
     ]
    },
    {
     "name": "stdout",
     "output_type": "stream",
     "text": [
      "--1"
     ]
    }
   ],
   "source": [
    "//%rungdb\n",
    "//%command:ls -al"
   ]
  },
  {
   "cell_type": "code",
   "execution_count": null,
   "id": "8036e8f6-5e4d-4aba-a586-23b159078584",
   "metadata": {},
   "outputs": [],
   "source": []
  }
 ],
 "metadata": {
  "kernelspec": {
   "display_name": "MyC",
   "language": "C",
   "name": "myc"
  },
  "language_info": {
   "file_extension": ".c",
   "mimetype": "text/x-csrc",
   "name": "text/x-csrc"
  }
 },
 "nbformat": 4,
 "nbformat_minor": 5
}
